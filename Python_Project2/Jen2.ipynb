{
 "cells": [
  {
   "cell_type": "code",
   "execution_count": 11,
   "metadata": {
    "collapsed": false
   },
   "outputs": [],
   "source": [
    "import csv \n",
    "import pandas as pd\n",
    "import numpy as np\n",
    "import matplotlib.pyplot as plt\n",
    "%matplotlib inline\n",
    "\n",
    "with open('Data/2015.tsv','r') as tsv:\n",
    "    data = [line.strip().split('\\t') for line in tsv]\n",
    "    \n",
    "col_names = data[0]\n",
    "df = pd.DataFrame(data, columns=col_names)\n",
    "df = df[1:]\n",
    "\n",
    "#open code_sex.csv and convert it to a DataFrame\n",
    "with open('Data/code_sex.csv','r') as csv:\n",
    "    sex_descrip = [line.strip().split(',') for line in csv]\n",
    "\n",
    "sex_header = sex_descrip[0]\n",
    "df_sex = pd.DataFrame(sex_descrip, columns=sex_header)\n",
    "df_sex = df_sex[1:]\n",
    "indexed_df_sex = df_sex.set_index('Code')\n",
    "\n",
    "#open code_body_part.csv and convert it to a DataFrame\n",
    "with open('Data/code_body_part.csv','r') as csv:\n",
    "    body_part_descrip = [line.strip().split(',') for line in csv]\n",
    "\n",
    "body_part_header = body_part_descrip[0]\n",
    "df_body_part = pd.DataFrame(body_part_descrip, columns=body_part_header)\n",
    "df_body_part = df_body_part[1:]\n",
    "indexed_df_body_part = df_body_part.set_index('Code')\n",
    "\n",
    "#open code_diagnosis.csv and convert it to a DataFrame\n",
    "with open('Data/code_diagnosis.csv','r') as csv:\n",
    "    diagnosis_descrip = [line.strip().split(',') for line in csv]\n",
    "\n",
    "diagnosis_header = diagnosis_descrip[0]\n",
    "df_diagnosis = pd.DataFrame(diagnosis_descrip, columns=diagnosis_header)\n",
    "df_diagnosis = df_diagnosis[1:]\n",
    "indexed_df_diagnosis = df_diagnosis.set_index('Code')\n",
    "\n",
    "#open code_disposition.csv and convert it to a DataFrame\n",
    "with open('Data/code_disposition.csv','r') as csv:\n",
    "    disposition_descrip = [line.strip().split(',') for line in csv]\n",
    "\n",
    "disposition_header = disposition_descrip[0]\n",
    "df_disposition = pd.DataFrame(disposition_descrip, columns=disposition_header)\n",
    "df_disposition = df_disposition[1:]\n",
    "indexed_df_disposition = df_disposition.set_index('Code')\n",
    "\n",
    "#open code_fire.csv and convert it to a DataFrame\n",
    "with open('Data/code_fire.csv','r') as csv:\n",
    "    fire_descrip = [line.strip().split(',') for line in csv]\n",
    "\n",
    "fire_header = fire_descrip[0]\n",
    "df_fire = pd.DataFrame(fire_descrip, columns=fire_header)\n",
    "df_fire = df_fire[1:]\n",
    "indexed_df_fire = df_fire.set_index('Code')\n",
    "\n",
    "#open code_locale.csv and convert it to a DataFrame\n",
    "with open('Data/code_locale.csv','r') as csv:\n",
    "    locale_descrip = [line.strip().split(',') for line in csv]\n",
    "\n",
    "locale_header = locale_descrip[0]\n",
    "df_locale = pd.DataFrame(locale_descrip, columns=locale_header)\n",
    "df_locale = df_locale[1:]\n",
    "indexed_df_locale = df_locale.set_index('Code')\n",
    "\n",
    "#open code_product.csv and convert it to a DataFrame\n",
    "with open('Data/code_product.csv','r') as csv:\n",
    "    product_descrip = [line.strip().split(',',1) for line in csv]\n",
    "\n",
    "product_header = product_descrip[0]\n",
    "df_product = pd.DataFrame(product_descrip, columns=product_header)\n",
    "df_product = df_product[1:]\n",
    "indexed_df_product = df_product.set_index('Code')\n",
    "\n",
    "#open code_race.csv and convert it to a DataFrame\n",
    "with open('Data/code_race.csv','r') as csv:\n",
    "    race_descrip = [line.strip().split(',') for line in csv]\n",
    "\n",
    "race_header = race_descrip[0]\n",
    "df_race = pd.DataFrame(race_descrip, columns=race_header)\n",
    "df_race = df_race[1:]\n",
    "indexed_df_race = df_race.set_index('Code')\n",
    "\n",
    "#merge all the codes\n",
    "df['sex_descrip']=df.sex.map(indexed_df_sex.Description)\n",
    "df['body_part_descrip']=df.body_part.map(indexed_df_body_part.Description)\n",
    "df['diag_descrip']=df.diag.map(indexed_df_diagnosis.Description)\n",
    "df['disposition_descrip']=df.disposition.map(indexed_df_disposition.Description)\n",
    "df['fire_descrip']=df.fmv.map(indexed_df_fire.Description)\n",
    "df['locale_descrip']=df.location.map(indexed_df_locale.Description)\n",
    "df['product1_descrip']=df.prod1.map(indexed_df_product.Description)\n",
    "df['product2_descrip']=df.prod2.map(indexed_df_product.Description)\n",
    "df['race_descrip']=df.race.map(indexed_df_race.Description)\n",
    "\n",
    "#combine the 2 narr fields into 1\n",
    "df['Notes'] = df['narr1'].map(str) + df['narr2'].map(str)\n",
    "\n",
    "df1 = df[['CPSC Case #', \n",
    "         'trmt_date', \n",
    "         'psu', \n",
    "         'weight', \n",
    "         'age', \n",
    "         'sex_descrip', \n",
    "         'race_descrip',\n",
    "         'body_part_descrip', \n",
    "         'diag_descrip', \n",
    "         'disposition_descrip', \n",
    "         'fire_descrip', \n",
    "         'locale_descrip', \n",
    "         'product1_descrip', \n",
    "         'product2_descrip', \n",
    "         'Notes']]"
   ]
  },
  {
   "cell_type": "code",
   "execution_count": 42,
   "metadata": {
    "collapsed": false
   },
   "outputs": [
    {
     "name": "stdout",
     "output_type": "stream",
     "text": [
      "        Dates  Number_injuries\n",
      "0  01/01/2015              862\n",
      "1  01/02/2015              838\n",
      "2  01/03/2015              828\n",
      "3  01/04/2015              838\n",
      "4  01/05/2015              847\n",
      "5  01/06/2015              839\n",
      "6  01/07/2015              792\n",
      "7  01/08/2015              849\n",
      "8  01/09/2015              855\n",
      "9  01/10/2015              876\n"
     ]
    },
    {
     "data": {
      "text/plain": [
       "[<matplotlib.text.Text at 0x117b40d68>,\n",
       " <matplotlib.text.Text at 0x117d25828>,\n",
       " <matplotlib.text.Text at 0x128e83f28>,\n",
       " <matplotlib.text.Text at 0x12817a978>,\n",
       " <matplotlib.text.Text at 0x1281513c8>,\n",
       " <matplotlib.text.Text at 0x128151dd8>,\n",
       " <matplotlib.text.Text at 0x128152828>,\n",
       " <matplotlib.text.Text at 0x1264ab6a0>,\n",
       " <matplotlib.text.Text at 0x1281400b8>,\n",
       " <matplotlib.text.Text at 0x12814b6d8>]"
      ]
     },
     "execution_count": 42,
     "metadata": {},
     "output_type": "execute_result"
    },
    {
     "data": {
      "image/png": "[encoded data removed]",
      "text/plain": [
       "<matplotlib.figure.Figure at 0x117b82c88>"
      ]
     },
     "metadata": {},
     "output_type": "display_data"
    }
   ],
   "source": [
    "# Time associated \n",
    "#dates = pd.date_range('1/1/2015', '12/31/2015', freq = 'M')\n",
    "\n",
    "time_count = df1['trmt_date'].value_counts().sort_index()\n",
    "\n",
    "dftime = pd.DataFrame({'Dates':time_count.index, 'Number_injuries':time_count.values}).head(10)\n",
    "print(dftime)\n",
    "\n",
    "graph = dftime.head(10).plot(kind = 'bar')\n",
    "graph.set_xticklabels(dftime['Dates'].head(10))\n"
   ]
  },
  {
   "cell_type": "code",
   "execution_count": null,
   "metadata": {
    "collapsed": false
   },
   "outputs": [],
   "source": [
    "# Looking for weight associated injuries\n",
    "\n",
    "weight = df1['weight'].value_counts().sort_index(ascending = False).head(10)\n",
    "\n",
    "# Heaviest to lighter weights\n",
    "weight_1 = df1[df1['weight'].str.contains('97.9239')]\n",
    "dfweight1 = weight_1['product1_descrip'].value_counts().head()\n",
    "\n",
    "weight_2 = df1[df1['weight'].str.contains('85.7374')]\n",
    "dfweight2 = weight_2['product1_descrip'].value_counts().head()\n",
    "\n",
    "weight_3 = df1[df1['weight'].str.contains('83.2157')]\n",
    "dfweight3 = weight_3['product1_descrip'].value_counts().head()\n",
    "\n",
    "weight_4 = df1[df1['weight'].str.contains('80.8381')]\n",
    "dfweight4 = weight_4['product1_descrip'].value_counts().head()\n",
    "\n",
    "weight_5 = df1[df1['weight'].str.contains('78.5926')]\n",
    "dfweight5 = weight_5['product1_descrip'].value_counts().head()\n",
    "\n",
    "weight_6 = df1[df1['weight'].str.contains('74.8813')]\n",
    "dfweight6 = weight_6['product1_descrip'].value_counts().head()\n",
    "\n",
    "weight_7 = df1[df1['weight'].str.contains('49.2646')]\n",
    "dfweight7 = weight_7['product1_descrip'].value_counts().head()\n",
    "\n",
    "weight_7 = df1[df1['weight'].str.contains('37.6645 ')]\n",
    "dfweight8 = weight_7['product1_descrip'].value_counts().head()\n",
    "\n",
    "weight_graph = pd.DataFrame({'97lbs':dfweight1, '85lbs':dfweight2, '83lbs':dfweight3, '80lbs':dfweight4, '78lbs':dfweight5, '75lbs':dfweight6, '49lbs':dfweight7, '37lbs':dfweight8}).plot(kind = 'bar', stacked = True)"
   ]
  },
  {
   "cell_type": "code",
   "execution_count": null,
   "metadata": {
    "collapsed": false
   },
   "outputs": [],
   "source": [
    "# drunk vs high vs under the influence\n",
    "\n",
    "# Search for drunk in notes\n",
    "drunk_af = df1[df1['Notes'].str.contains('DRUNK|DRINKING|ALCOHOL|INEBRIATED')]\n",
    "drunk_af_graph = drunk_af['age'].value_counts().head(10).plot(kind = 'bar')\n",
    "drunk_af_graph.set_xlabel(\"Ages\")\n",
    "drunk_af_graph.set_ylabel(\"Number of people\")\n"
   ]
  },
  {
   "cell_type": "code",
   "execution_count": null,
   "metadata": {
    "collapsed": false
   },
   "outputs": [],
   "source": [
    "# Search for high in notes (remove references to high with other phrases)\n",
    "\n",
    "high_filter = df1[df1['Notes'].str.contains('HIGH')]\n",
    "\n",
    "high_filter = high_filter[high_filter['Notes'].str.contains('HEELED') == False]\n",
    "high_filter = high_filter[high_filter['Notes'].str.contains('CHAIR') == False]\n",
    "high_filter = high_filter[high_filter['Notes'].str.contains('HEELS') == False]\n",
    "high_filter = high_filter[high_filter['Notes'].str.contains('THIGH') == False]\n",
    "high_filter = high_filter[high_filter['Notes'].str.contains('BED') == False]\n",
    "high_filter = high_filter[high_filter['Notes'].str.contains('BAR') == False]\n",
    "high_filter = high_filter[high_filter['Notes'].str.contains('SHELF') == False]\n",
    "high_filter = high_filter[high_filter['Notes'].str.contains('HEEL') == False]\n",
    "high_filter = high_filter[high_filter['Notes'].str.contains('STEPS') == False]\n",
    "high_filter = high_filter[high_filter['Notes'].str.contains('POWERED') == False]\n",
    "high_filter = high_filter[high_filter['Notes'].str.contains('STOOL') == False]\n",
    "high_filter = high_filter[high_filter['Notes'].str.contains('FT') == False]\n",
    "high_filter = high_filter[high_filter['Notes'].str.contains('FEET') == False]\n",
    "high_filter = high_filter[high_filter['Notes'].str.contains('UP') == False]\n",
    "high_filter = high_filter[high_filter['Notes'].str.contains('INTENSITY') == False]\n",
    "high_filter = high_filter[high_filter['Notes'].str.contains('HEEL') == False]\n",
    "high_filter = high_filter[high_filter['Notes'].str.contains('SCHOOL') == False]\n",
    "high_filter = high_filter[high_filter['Notes'].str.contains('SPEED') == False]\n",
    "high_filter = high_filter[high_filter['Notes'].str.contains('PRESSURE') == False]\n",
    "high_filter = high_filter[high_filter['Notes'].str.contains('CABINET') == False]\n",
    "high_filter = high_filter[high_filter['Notes'].str.contains('JUMP') == False]\n",
    "high_af = high_filter[high_filter['Notes'].str.contains('TOP') == False]\n",
    "\n",
    "\n",
    "pd.options.display.max_colwidth = 1000\n",
    "high_af['Notes']\n",
    "\n",
    "# high_af_graph = high_af['age'].value_counts().head(10).plot(kind = 'bar')\n",
    "# high_af_graph.set_xlabel(\"Ages\")\n",
    "# high_af_graph.set_ylabel(\"Number of people\")"
   ]
  },
  {
   "cell_type": "code",
   "execution_count": null,
   "metadata": {
    "collapsed": false
   },
   "outputs": [],
   "source": [
    "# Girls v Boys\n",
    "# General injuries \n",
    "\n",
    "gvb_general = df1['sex_descrip'].value_counts().plot(kind = \"bar\")\n",
    "gvb_general = gvb_general.set_ylabel(\"Number of injuries\")\n",
    "gvb_general"
   ]
  },
  {
   "cell_type": "code",
   "execution_count": null,
   "metadata": {
    "collapsed": false
   },
   "outputs": [],
   "source": [
    "# Girls v Boys\n",
    "# Most common products\n",
    "    \n",
    "gvb_products = df1['product1_descrip'].value_counts().head(10).plot(kind = 'bar', legend=None, title = \"The most dangerous products for males vs females\")\n",
    "gvb_products.set_xlabel(\"Product types\")\n",
    "gvb_products.set_ylabel(\"Frequency of occurences\")\n",
    "gvb_products\n",
    "\n",
    "# Trying to groupby sex, then 10 most common things for each sex\n",
    "y = df1.groupby(['sex_descrip', 'product1_descrip'], sort = True).size()"
   ]
  },
  {
   "cell_type": "code",
   "execution_count": 17,
   "metadata": {
    "collapsed": false
   },
   "outputs": [
    {
     "data": {
      "text/plain": [
       "STAIRS OR STEPS                                                   28712\n",
       "FLOORS OR FLOORING MATERIALS                                      28351\n",
       "\"BEDS OR BEDFRAMES, OTHER OR NOT SPEC    \"                        16784\n",
       "\"BASKETBALL, ACTIVITY AND RELATED EQUIPMENT\"                      14147\n",
       "\"BICYCLES AND ACCESSORIES, (EXCL.MOUNTAIN OR ALL-TERRAIN)\"        12787\n",
       "\"FOOTBALL (ACTIVITY, APPAREL OR EQUIPMENT)\"                       11664\n",
       "\"CHAIRS, OTHER OR NOT SPECIFIED          \"                         8271\n",
       "CEILINGS AND WALLS (PART OF COMPLETED STRUCTURE)                   7783\n",
       "\"DOORS, OTHER OR NOT SPECIFIED           \"                         7723\n",
       "\"TABLES (EXCL.  BABY CHANGING TABLES, BILLIARD OR POOL TABLES\"     7354\n",
       "\"KNIVES, NOT ELSEWHERE CLASSIFIED\"                                 7320\n",
       "BATHTUBS OR SHOWERS                                                7209\n",
       "\"SOCCER (ACTIVITY, APPAREL OR EQUIPMENT)\"                          7173\n",
       "\"EXERCISE (ACTIVITY OR APPAREL, W/O EQUIP)\"                        7079\n",
       "\"SOFAS, COUCHES, DAVENPORTS, DIVANS OR STUDIO COUCHES\"             5107\n",
       "FOOTWEAR                                                           3690\n",
       "\"LADDERS, OTHER OR NOT SPECIFIED        \"                          3674\n",
       "TRAMPOLINES                                                        3209\n",
       "\"CABINETS, RACKS, ROOM DIVIDERS AND SHELVES, NEC\"                  3125\n",
       "\"BASEBALL (ACTIVITY, APPAREL OR EQUIPMENT; EXCL SOFTBALL)\"         3072\n",
       "JEWELRY                                                            2965\n",
       "\"PORCHES, BALCONIES, OPEN-SIDE FLOORS OR FLOOR OPENINGS\"           2949\n",
       "SKATEBOARDS                                                        2874\n",
       "\"CONTAINERS, NOT SPECIFIED\"                                        2844\n",
       "MONKEY BARS OR OTHER PLAYGROUND CLIMBING APPARATUS                 2700\n",
       "\"DESKS, CHESTS, BUREAUS OR BUFFETS\"                                2646\n",
       "FENCES OR FENCE POSTS                                              2612\n",
       "\"WEIGHT LIFTING (ACTIVITY, APPAREL OR EQUIPMENT)\"                  2556\n",
       "\"WINDOWS & WINDOW GLASS, EXCL STORM WINDO\"                         2530\n",
       "TOILETS                                                            2483\n",
       "                                                                  ...  \n",
       "ELECTRIC SOLDERING EQUIPMENT                                          2\n",
       "MUSIC BOXES OR CHIMES                                                 2\n",
       "WALLPAPER                                                             2\n",
       "ELECTRIC CORN POPPERS                                                 1\n",
       "OTHER POLISHES                                                        1\n",
       "SQUEEZE OR SQUEAKER TOYS                                              1\n",
       "ELECTRIC GRIDDLES                                                     1\n",
       "POWER JOINTERS                                                        1\n",
       "INCINERATORS                                                          1\n",
       "SHOELACE FASTENERS (FOR INFANTS)                                      1\n",
       "FAUCET WATER HEATERS                                                  1\n",
       "LAPIDARY EQUIPMENT                                                    1\n",
       "BABY SCALES                                                           1\n",
       "TOY MAKE-UP KITS OR COSMETICS                                         1\n",
       "FOOD WARMERS                                                          1\n",
       "SHOE POLISHES                                                         1\n",
       "TAPE RECORDERS OR PLAYERS (SELF-CONTAINED UNITS)                      1\n",
       "LAWN VACUUMS                                                          1\n",
       "NONELECTRIC CAN OPENERS                                               1\n",
       "WATER SOFTENERS OR CONDITIONERS (APPLIANCES)                          1\n",
       "ELECTRIC WATER HEATERS                                                1\n",
       "BABY CARRIERS (BICYCLE-MOUNTED)                                       1\n",
       "ELECTRIC BROOMS                                                       1\n",
       "CHAFING DISHES OR FONDUE POTS                                         1\n",
       "ELECTRIC KNIFE SHARPENERS                                             1\n",
       "ICE CRUSHERS                                                          1\n",
       "ELECTRIC CAN OPENERS                                                  1\n",
       "\"ASHTRAYS, ELECTRIC OR BATTERY OPERATED\"                              1\n",
       "BABY RATTLES                                                          1\n",
       "INDOOR ANTENNAS (SEPARATE)                                            1\n",
       "Name: product1_descrip, dtype: int64"
      ]
     },
     "execution_count": 17,
     "metadata": {},
     "output_type": "execute_result"
    }
   ],
   "source": [
    "# Girls v Boys\n",
    "# Most common products\n",
    "# 10 most common items, need to break by gender\n",
    "ten_products = df1['product1_descrip'].value_counts(ascending = False)\n",
    "ten_products\n",
    "#ten_products = ten_products.head(10).plot.bar(by = 'product1_descrip')\n"
   ]
  },
  {
   "cell_type": "code",
   "execution_count": null,
   "metadata": {
    "collapsed": false
   },
   "outputs": [],
   "source": [
    "# Girls v Boys\n",
    "# Most commonly injured body part\n",
    "# Need to change to gvb\n",
    "\n",
    "body_parts = df1['body_part_descrip'].value_counts().plot(kind = 'bar')\n",
    "body_parts"
   ]
  }
 ],
 "metadata": {
  "kernelspec": {
   "display_name": "Python 3",
   "language": "python",
   "name": "python3"
  },
  "language_info": {
   "codemirror_mode": {
    "name": "ipython",
    "version": 3
   },
   "file_extension": ".py",
   "mimetype": "text/x-python",
   "name": "python",
   "nbconvert_exporter": "python",
   "pygments_lexer": "ipython3",
   "version": "3.5.1"
  }
 },
 "nbformat": 4,
 "nbformat_minor": 0
}
