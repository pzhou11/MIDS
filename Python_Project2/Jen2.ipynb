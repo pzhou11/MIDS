{
 "cells": [
  {
   "cell_type": "code",
   "execution_count": 45,
   "metadata": {
    "collapsed": false
   },
   "outputs": [
    {
     "ename": "TypeError",
     "evalue": "'numpy.int64' object is not callable",
     "output_type": "error",
     "traceback": [
      "\u001b[0;31m---------------------------------------------------------------------------\u001b[0m",
      "\u001b[0;31mTypeError\u001b[0m                                 Traceback (most recent call last)",
      "\u001b[0;32m<ipython-input-45-4436c238a3ff>\u001b[0m in \u001b[0;36m<module>\u001b[0;34m()\u001b[0m\n\u001b[1;32m    148\u001b[0m     \u001b[0;32mreturn\u001b[0m \u001b[0moutput_dict\u001b[0m\u001b[0;34m\u001b[0m\u001b[0m\n\u001b[1;32m    149\u001b[0m \u001b[0;34m\u001b[0m\u001b[0m\n\u001b[0;32m--> 150\u001b[0;31m \u001b[0mdf1\u001b[0m\u001b[0;34m.\u001b[0m\u001b[0msize\u001b[0m\u001b[0;34m(\u001b[0m\u001b[0;34m)\u001b[0m\u001b[0;34m\u001b[0m\u001b[0m\n\u001b[0m",
      "\u001b[0;31mTypeError\u001b[0m: 'numpy.int64' object is not callable"
     ]
    }
   ],
   "source": [
    "import csv \n",
    "import pandas as pd\n",
    "import numpy as np\n",
    "import matplotlib.pyplot as plt\n",
    "%matplotlib inline\n",
    "\n",
    "with open('Data/2015.tsv','r') as tsv:\n",
    "    data = [line.strip().split('\\t') for line in tsv]\n",
    "    \n",
    "col_names = data[0]\n",
    "df = pd.DataFrame(data, columns=col_names)\n",
    "df = df[1:]\n",
    "\n",
    "#open code_sex.csv and convert it to a DataFrame\n",
    "with open('Data/code_sex.csv','r') as csv:\n",
    "    sex_descrip = [line.strip().split(',') for line in csv]\n",
    "\n",
    "sex_header = sex_descrip[0]\n",
    "df_sex = pd.DataFrame(sex_descrip, columns=sex_header)\n",
    "df_sex = df_sex[1:]\n",
    "indexed_df_sex = df_sex.set_index('Code')\n",
    "\n",
    "#open code_body_part.csv and convert it to a DataFrame\n",
    "with open('Data/code_body_part.csv','r') as csv:\n",
    "    body_part_descrip = [line.strip().split(',') for line in csv]\n",
    "\n",
    "body_part_header = body_part_descrip[0]\n",
    "df_body_part = pd.DataFrame(body_part_descrip, columns=body_part_header)\n",
    "df_body_part = df_body_part[1:]\n",
    "indexed_df_body_part = df_body_part.set_index('Code')\n",
    "\n",
    "#open code_diagnosis.csv and convert it to a DataFrame\n",
    "with open('Data/code_diagnosis.csv','r') as csv:\n",
    "    diagnosis_descrip = [line.strip().split(',') for line in csv]\n",
    "\n",
    "diagnosis_header = diagnosis_descrip[0]\n",
    "df_diagnosis = pd.DataFrame(diagnosis_descrip, columns=diagnosis_header)\n",
    "df_diagnosis = df_diagnosis[1:]\n",
    "indexed_df_diagnosis = df_diagnosis.set_index('Code')\n",
    "\n",
    "#open code_disposition.csv and convert it to a DataFrame\n",
    "with open('Data/code_disposition.csv','r') as csv:\n",
    "    disposition_descrip = [line.strip().split(',') for line in csv]\n",
    "\n",
    "disposition_header = disposition_descrip[0]\n",
    "df_disposition = pd.DataFrame(disposition_descrip, columns=disposition_header)\n",
    "df_disposition = df_disposition[1:]\n",
    "indexed_df_disposition = df_disposition.set_index('Code')\n",
    "\n",
    "#open code_fire.csv and convert it to a DataFrame\n",
    "with open('Data/code_fire.csv','r') as csv:\n",
    "    fire_descrip = [line.strip().split(',') for line in csv]\n",
    "\n",
    "fire_header = fire_descrip[0]\n",
    "df_fire = pd.DataFrame(fire_descrip, columns=fire_header)\n",
    "df_fire = df_fire[1:]\n",
    "indexed_df_fire = df_fire.set_index('Code')\n",
    "\n",
    "#open code_locale.csv and convert it to a DataFrame\n",
    "with open('Data/code_locale.csv','r') as csv:\n",
    "    locale_descrip = [line.strip().split(',') for line in csv]\n",
    "\n",
    "locale_header = locale_descrip[0]\n",
    "df_locale = pd.DataFrame(locale_descrip, columns=locale_header)\n",
    "df_locale = df_locale[1:]\n",
    "indexed_df_locale = df_locale.set_index('Code')\n",
    "\n",
    "#open code_product.csv and convert it to a DataFrame\n",
    "with open('Data/code_product.csv','r') as csv:\n",
    "    product_descrip = [line.strip().split(',',1) for line in csv]\n",
    "\n",
    "product_header = product_descrip[0]\n",
    "df_product = pd.DataFrame(product_descrip, columns=product_header)\n",
    "df_product = df_product[1:]\n",
    "indexed_df_product = df_product.set_index('Code')\n",
    "\n",
    "#open code_race.csv and convert it to a DataFrame\n",
    "with open('Data/code_race.csv','r') as csv:\n",
    "    race_descrip = [line.strip().split(',') for line in csv]\n",
    "\n",
    "race_header = race_descrip[0]\n",
    "df_race = pd.DataFrame(race_descrip, columns=race_header)\n",
    "df_race = df_race[1:]\n",
    "indexed_df_race = df_race.set_index('Code')\n",
    "\n",
    "#merge all the codes\n",
    "df['sex_descrip']=df.sex.map(indexed_df_sex.Description)\n",
    "df['body_part_descrip']=df.body_part.map(indexed_df_body_part.Description)\n",
    "df['diag_descrip']=df.diag.map(indexed_df_diagnosis.Description)\n",
    "df['disposition_descrip']=df.disposition.map(indexed_df_disposition.Description)\n",
    "df['fire_descrip']=df.fmv.map(indexed_df_fire.Description)\n",
    "df['locale_descrip']=df.location.map(indexed_df_locale.Description)\n",
    "df['product1_descrip']=df.prod1.map(indexed_df_product.Description)\n",
    "df['product2_descrip']=df.prod2.map(indexed_df_product.Description)\n",
    "df['race_descrip']=df.race.map(indexed_df_race.Description)\n",
    "\n",
    "#combine the 2 narr fields into 1\n",
    "df['Notes'] = df['narr1'].map(str) + df['narr2'].map(str)\n",
    "\n",
    "df1 = df[['CPSC Case #', \n",
    "         'trmt_date', \n",
    "         'psu', \n",
    "         'weight', \n",
    "         'age', \n",
    "         'sex_descrip', \n",
    "         'race_descrip',\n",
    "         'body_part_descrip', \n",
    "         'diag_descrip', \n",
    "         'disposition_descrip', \n",
    "         'fire_descrip', \n",
    "         'locale_descrip', \n",
    "         'product1_descrip', \n",
    "         'product2_descrip', \n",
    "         'Notes']]\n",
    "\n",
    "#convert numerical columns to numeric data type\n",
    "df1 = df1.apply(lambda x: pd.to_numeric(x,errors=\"ignore\"))\n",
    "\n",
    "#convert 'trmt_date' column to datetime type\n",
    "df1['trmt_date'] = df1['trmt_date'].apply(lambda x: pd.to_datetime(x,format='%m/%d/%Y'))\n",
    "\n",
    "#adjust ages >120yo\n",
    "def age_filter(age):\n",
    "    if age > 120:\n",
    "        return 1\n",
    "    else:\n",
    "        return age\n",
    "\n",
    "df1['age'] = df1['age'].astype(int).map(age_filter)\n",
    "\n",
    "#extra functions\n",
    "def textfind(dataframe, field, string):\n",
    "    \"\"\" Takes dataframe, field (column in the dataframe), and a string to search\n",
    "    Allow for use of regular expressions.\n",
    "    Returns a dataframe of the records where the string is found\"\"\"\n",
    "    import re\n",
    "    a = [df1.loc[i] for i in range(1,len(dataframe)) \\\n",
    "         if re.search(string, dataframe[field][i])]\n",
    "    return pd.DataFrame(a)\n",
    "    \n",
    "def notereader(dataframe):\n",
    "    \"\"\" Takes a dataframe that contains the 'Notes' field and prints it out in a\n",
    "    readable fashion.\n",
    "    Returns a dictionary of Index (integer): Note (string) pairs\"\"\"\n",
    "    output_dict ={}\n",
    "    for i in dataframe.index:           \n",
    "        output_dict[i] = dataframe.Notes[i]\n",
    "        print (\"INDEX\", i,\"\\n\", dataframe.Notes[i],\"\\n\")\n",
    "    return output_dict\n",
    "\n"
   ]
  },
  {
   "cell_type": "markdown",
   "metadata": {},
   "source": [
    "# Time injuries "
   ]
  },
  {
   "cell_type": "code",
   "execution_count": 12,
   "metadata": {
    "collapsed": false
   },
   "outputs": [
    {
     "data": {
      "text/plain": [
       "<matplotlib.text.Text at 0x1467ace48>"
      ]
     },
     "execution_count": 12,
     "metadata": {},
     "output_type": "execute_result"
    },
    {
     "data": {
      "image/png": "[encoded data removed]",
      "text/plain": [
       "<matplotlib.figure.Figure at 0x10553e630>"
      ]
     },
     "metadata": {},
     "output_type": "display_data"
    }
   ],
   "source": [
    "#injuries by month\n",
    "\n",
    "#reindex to have dates as index\n",
    "indexed_time = df1.set_index('trmt_date')\n",
    "indexed_time['Count'] = 1\n",
    "\n",
    "#group dates by months\n",
    "month_index = indexed_time['Count'].groupby(indexed_time.index.month).count()\n",
    "month_graph = month_index.plot(title = \"Injuries by month\")\n",
    "month_graph.set_xlabel(\"Month\")\n",
    "month_graph.set_ylabel(\"Number of injuries\")\n"
   ]
  },
  {
   "cell_type": "code",
   "execution_count": 51,
   "metadata": {
    "collapsed": false
   },
   "outputs": [
    {
     "data": {
      "text/plain": [
       "<matplotlib.legend.Legend at 0x146b170b8>"
      ]
     },
     "execution_count": 51,
     "metadata": {},
     "output_type": "execute_result"
    },
    {
     "data": {
      "image/png": "[encoded data removed]",
      "text/plain": [
       "<matplotlib.figure.Figure at 0x146b029b0>"
      ]
     },
     "metadata": {},
     "output_type": "display_data"
    }
   ],
   "source": [
    "#Combined holiday graph\n",
    "\n",
    "holiday_data = {'Holiday': ['Valentines','Fourth of July', 'Halloween', 'Thanksgiving', 'Christmas', 'NYE'],\n",
    "               'Injuries': [val_count, indep_count, hallow_count, thanks_count, christmas_count, nye_count]}\n",
    "\n",
    "df_holiday = pd.DataFrame(holiday_data)\n",
    "holiday_graph = df_holiday.plot(kind = 'bar', x = 'Holiday', y = 'Injuries', title = \"Injuries During the Holidays\")\n",
    "holiday_graph.set_ylabel(\"Number of Injuries\")\n",
    "\n",
    "\n",
    "#move legend outside of graph\n",
    "holiday_graph.legend(loc = 'center left', bbox_to_anchor=(1, 0.5))"
   ]
  },
  {
   "cell_type": "code",
   "execution_count": 53,
   "metadata": {
    "collapsed": false
   },
   "outputs": [
    {
     "name": "stderr",
     "output_type": "stream",
     "text": [
      "/Users/Jen2/anaconda/lib/python3.5/site-packages/ipykernel/__main__.py:8: SettingWithCopyWarning: \n",
      "A value is trying to be set on a copy of a slice from a DataFrame.\n",
      "Try using .loc[row_indexer,col_indexer] = value instead\n",
      "\n",
      "See the caveats in the documentation: http://pandas.pydata.org/pandas-docs/stable/indexing.html#indexing-view-versus-copy\n"
     ]
    },
    {
     "data": {
      "text/html": [
       "<div>\n",
       "<table border=\"1\" class=\"dataframe\">\n",
       "  <thead>\n",
       "    <tr style=\"text-align: right;\">\n",
       "      <th></th>\n",
       "      <th>Injuries</th>\n",
       "    </tr>\n",
       "  </thead>\n",
       "  <tbody>\n",
       "    <tr>\n",
       "      <th>\"BASKETBALL, ACTIVITY AND RELATED EQUIPMENT\"</th>\n",
       "      <td>36</td>\n",
       "    </tr>\n",
       "    <tr>\n",
       "      <th>STAIRS OR STEPS</th>\n",
       "      <td>30</td>\n",
       "    </tr>\n",
       "    <tr>\n",
       "      <th>FLOORS OR FLOORING MATERIALS</th>\n",
       "      <td>23</td>\n",
       "    </tr>\n",
       "    <tr>\n",
       "      <th>\"BEDS OR BEDFRAMES, OTHER OR NOT SPEC    \"</th>\n",
       "      <td>20</td>\n",
       "    </tr>\n",
       "    <tr>\n",
       "      <th>\"BICYCLES AND ACCESSORIES, (EXCL.MOUNTAIN OR ALL-TERRAIN)\"</th>\n",
       "      <td>15</td>\n",
       "    </tr>\n",
       "    <tr>\n",
       "      <th>\"CHAIRS, OTHER OR NOT SPECIFIED          \"</th>\n",
       "      <td>14</td>\n",
       "    </tr>\n",
       "    <tr>\n",
       "      <th>\"TABLES (EXCL.  BABY CHANGING TABLES, BILLIARD OR POOL TABLES\"</th>\n",
       "      <td>13</td>\n",
       "    </tr>\n",
       "    <tr>\n",
       "      <th>\"DOORS, OTHER OR NOT SPECIFIED           \"</th>\n",
       "      <td>9</td>\n",
       "    </tr>\n",
       "    <tr>\n",
       "      <th>\"WRESTLING (ACTIVITY, APPAREL OR EQUIPMENT)\"</th>\n",
       "      <td>9</td>\n",
       "    </tr>\n",
       "    <tr>\n",
       "      <th>CEILINGS AND WALLS (PART OF COMPLETED STRUCTURE)</th>\n",
       "      <td>7</td>\n",
       "    </tr>\n",
       "  </tbody>\n",
       "</table>\n",
       "</div>"
      ],
      "text/plain": [
       "                                                    Injuries\n",
       "\"BASKETBALL, ACTIVITY AND RELATED EQUIPMENT\"              36\n",
       "STAIRS OR STEPS                                           30\n",
       "FLOORS OR FLOORING MATERIALS                              23\n",
       "\"BEDS OR BEDFRAMES, OTHER OR NOT SPEC    \"                20\n",
       "\"BICYCLES AND ACCESSORIES, (EXCL.MOUNTAIN OR AL...        15\n",
       "\"CHAIRS, OTHER OR NOT SPECIFIED          \"                14\n",
       "\"TABLES (EXCL.  BABY CHANGING TABLES, BILLIARD ...        13\n",
       "\"DOORS, OTHER OR NOT SPECIFIED           \"                 9\n",
       "\"WRESTLING (ACTIVITY, APPAREL OR EQUIPMENT)\"               9\n",
       "CEILINGS AND WALLS (PART OF COMPLETED STRUCTURE)           7"
      ]
     },
     "execution_count": 53,
     "metadata": {},
     "output_type": "execute_result"
    }
   ],
   "source": [
    "#injuries on holidays\n",
    "\n",
    "#reindex to set time as index\n",
    "time = df1.set_index('trmt_date')\n",
    "\n",
    "#valentines injury count\n",
    "valentines = time['2015-02-14']\n",
    "valentines['Count'] = 1\n",
    "val_count = valentines['Count'].count()\n",
    "\n",
    "#valentines product related injuries males vs females\n",
    "val_graphF = valentines[valentines.sex_descrip == 'FEMALE'].product1_descrip.value_counts().head(10)\n",
    "val_graphF = pd.DataFrame(val_graphF)\n",
    "val_graphF.columns = ['Injuries']\n",
    "\n",
    "val_graphM = valentines[valentines.sex_descrip == 'MALE'].product1_descrip.value_counts().head(10)\n",
    "val_graphM = pd.DataFrame(val_graphM)\n",
    "val_graphM.columns = ['Injuries']\n",
    "val_graphM"
   ]
  },
  {
   "cell_type": "code",
   "execution_count": 55,
   "metadata": {
    "collapsed": false
   },
   "outputs": [
    {
     "name": "stderr",
     "output_type": "stream",
     "text": [
      "/Users/Jen2/anaconda/lib/python3.5/site-packages/ipykernel/__main__.py:3: SettingWithCopyWarning: \n",
      "A value is trying to be set on a copy of a slice from a DataFrame.\n",
      "Try using .loc[row_indexer,col_indexer] = value instead\n",
      "\n",
      "See the caveats in the documentation: http://pandas.pydata.org/pandas-docs/stable/indexing.html#indexing-view-versus-copy\n",
      "  app.launch_new_instance()\n"
     ]
    },
    {
     "data": {
      "text/html": [
       "<div>\n",
       "<table border=\"1\" class=\"dataframe\">\n",
       "  <thead>\n",
       "    <tr style=\"text-align: right;\">\n",
       "      <th></th>\n",
       "      <th>Injuries</th>\n",
       "    </tr>\n",
       "  </thead>\n",
       "  <tbody>\n",
       "    <tr>\n",
       "      <th>FLOORS OR FLOORING MATERIALS</th>\n",
       "      <td>38</td>\n",
       "    </tr>\n",
       "    <tr>\n",
       "      <th>STAIRS OR STEPS</th>\n",
       "      <td>34</td>\n",
       "    </tr>\n",
       "    <tr>\n",
       "      <th>\"BEDS OR BEDFRAMES, OTHER OR NOT SPEC    \"</th>\n",
       "      <td>23</td>\n",
       "    </tr>\n",
       "    <tr>\n",
       "      <th>\"TABLES (EXCL.  BABY CHANGING TABLES, BILLIARD OR POOL TABLES\"</th>\n",
       "      <td>17</td>\n",
       "    </tr>\n",
       "    <tr>\n",
       "      <th>\"KNIVES, NOT ELSEWHERE CLASSIFIED\"</th>\n",
       "      <td>16</td>\n",
       "    </tr>\n",
       "    <tr>\n",
       "      <th>\"BICYCLES AND ACCESSORIES, (EXCL.MOUNTAIN OR ALL-TERRAIN)\"</th>\n",
       "      <td>12</td>\n",
       "    </tr>\n",
       "    <tr>\n",
       "      <th>CEILINGS AND WALLS (PART OF COMPLETED STRUCTURE)</th>\n",
       "      <td>11</td>\n",
       "    </tr>\n",
       "    <tr>\n",
       "      <th>\"CHAIRS, OTHER OR NOT SPECIFIED          \"</th>\n",
       "      <td>9</td>\n",
       "    </tr>\n",
       "    <tr>\n",
       "      <th>\"WINDOWS &amp; WINDOW GLASS, EXCL STORM WINDO\"</th>\n",
       "      <td>8</td>\n",
       "    </tr>\n",
       "    <tr>\n",
       "      <th>\"BASKETBALL, ACTIVITY AND RELATED EQUIPMENT\"</th>\n",
       "      <td>8</td>\n",
       "    </tr>\n",
       "  </tbody>\n",
       "</table>\n",
       "</div>"
      ],
      "text/plain": [
       "                                                    Injuries\n",
       "FLOORS OR FLOORING MATERIALS                              38\n",
       "STAIRS OR STEPS                                           34\n",
       "\"BEDS OR BEDFRAMES, OTHER OR NOT SPEC    \"                23\n",
       "\"TABLES (EXCL.  BABY CHANGING TABLES, BILLIARD ...        17\n",
       "\"KNIVES, NOT ELSEWHERE CLASSIFIED\"                        16\n",
       "\"BICYCLES AND ACCESSORIES, (EXCL.MOUNTAIN OR AL...        12\n",
       "CEILINGS AND WALLS (PART OF COMPLETED STRUCTURE)          11\n",
       "\"CHAIRS, OTHER OR NOT SPECIFIED          \"                 9\n",
       "\"WINDOWS & WINDOW GLASS, EXCL STORM WINDO\"                 8\n",
       "\"BASKETBALL, ACTIVITY AND RELATED EQUIPMENT\"               8"
      ]
     },
     "execution_count": 55,
     "metadata": {},
     "output_type": "execute_result"
    }
   ],
   "source": [
    "#christmas injury count\n",
    "christmas = time['2015-12-24']\n",
    "christmas['Count'] = 1\n",
    "christmas_count = christmas['Count'].count()\n",
    "\n",
    "#christmas product related injuries males vs females\n",
    "xmas_graphF = christmas[christmas.sex_descrip == 'FEMALE'].product1_descrip.value_counts().head(10)\n",
    "xmas_graphF = pd.DataFrame(xmas_graphF)\n",
    "xmas_graphF.columns = ['Injuries']\n",
    "xmas_graphF\n",
    "\n",
    "xmas_graphM = christmas[christmas.sex_descrip == 'MALE'].product1_descrip.value_counts().head(10)\n",
    "xmas_graphM = pd.DataFrame(xmas_graphM)\n",
    "xmas_graphM.columns = ['Injuries']\n",
    "xmas_graphM"
   ]
  },
  {
   "cell_type": "code",
   "execution_count": 75,
   "metadata": {
    "collapsed": false
   },
   "outputs": [
    {
     "name": "stderr",
     "output_type": "stream",
     "text": [
      "/Users/Jen2/anaconda/lib/python3.5/site-packages/ipykernel/__main__.py:3: SettingWithCopyWarning: \n",
      "A value is trying to be set on a copy of a slice from a DataFrame.\n",
      "Try using .loc[row_indexer,col_indexer] = value instead\n",
      "\n",
      "See the caveats in the documentation: http://pandas.pydata.org/pandas-docs/stable/indexing.html#indexing-view-versus-copy\n",
      "  app.launch_new_instance()\n"
     ]
    },
    {
     "data": {
      "text/html": [
       "<div>\n",
       "<table border=\"1\" class=\"dataframe\">\n",
       "  <thead>\n",
       "    <tr style=\"text-align: right;\">\n",
       "      <th></th>\n",
       "      <th>Injuries</th>\n",
       "    </tr>\n",
       "  </thead>\n",
       "  <tbody>\n",
       "    <tr>\n",
       "      <th>FLOORS OR FLOORING MATERIALS</th>\n",
       "      <td>43</td>\n",
       "    </tr>\n",
       "    <tr>\n",
       "      <th>STAIRS OR STEPS</th>\n",
       "      <td>33</td>\n",
       "    </tr>\n",
       "    <tr>\n",
       "      <th>\"BEDS OR BEDFRAMES, OTHER OR NOT SPEC    \"</th>\n",
       "      <td>18</td>\n",
       "    </tr>\n",
       "    <tr>\n",
       "      <th>\"TABLES (EXCL.  BABY CHANGING TABLES, BILLIARD OR POOL TABLES\"</th>\n",
       "      <td>14</td>\n",
       "    </tr>\n",
       "    <tr>\n",
       "      <th>\"DOORS, OTHER OR NOT SPECIFIED           \"</th>\n",
       "      <td>11</td>\n",
       "    </tr>\n",
       "    <tr>\n",
       "      <th>BATHTUBS OR SHOWERS</th>\n",
       "      <td>10</td>\n",
       "    </tr>\n",
       "    <tr>\n",
       "      <th>\"KNIVES, NOT ELSEWHERE CLASSIFIED\"</th>\n",
       "      <td>8</td>\n",
       "    </tr>\n",
       "    <tr>\n",
       "      <th>\"SOFAS, COUCHES, DAVENPORTS, DIVANS OR STUDIO COUCHES\"</th>\n",
       "      <td>8</td>\n",
       "    </tr>\n",
       "    <tr>\n",
       "      <th>\"CHAIRS, OTHER OR NOT SPECIFIED          \"</th>\n",
       "      <td>8</td>\n",
       "    </tr>\n",
       "    <tr>\n",
       "      <th>GENERAL HOME OR ROOM INVOLVEMENT IN FIRES</th>\n",
       "      <td>7</td>\n",
       "    </tr>\n",
       "  </tbody>\n",
       "</table>\n",
       "</div>"
      ],
      "text/plain": [
       "                                                    Injuries\n",
       "FLOORS OR FLOORING MATERIALS                              43\n",
       "STAIRS OR STEPS                                           33\n",
       "\"BEDS OR BEDFRAMES, OTHER OR NOT SPEC    \"                18\n",
       "\"TABLES (EXCL.  BABY CHANGING TABLES, BILLIARD ...        14\n",
       "\"DOORS, OTHER OR NOT SPECIFIED           \"                11\n",
       "BATHTUBS OR SHOWERS                                       10\n",
       "\"KNIVES, NOT ELSEWHERE CLASSIFIED\"                         8\n",
       "\"SOFAS, COUCHES, DAVENPORTS, DIVANS OR STUDIO C...         8\n",
       "\"CHAIRS, OTHER OR NOT SPECIFIED          \"                 8\n",
       "GENERAL HOME OR ROOM INVOLVEMENT IN FIRES                  7"
      ]
     },
     "execution_count": 75,
     "metadata": {},
     "output_type": "execute_result"
    }
   ],
   "source": [
    "#nye injury count\n",
    "nye = time['2015-12-31']\n",
    "nye['Count'] = 1\n",
    "nye_count = nye['Count'].count()\n",
    "\n",
    "\n",
    "#nye product related injuries males vs females\n",
    "nye_graphF = nye[nye.sex_descrip == 'FEMALE'].product1_descrip.value_counts().head(10)\n",
    "nye_graphF = pd.DataFrame(nye_graphF)\n",
    "nye_graphF.columns = ['Injuries']\n",
    "nye_graphF\n",
    "\n",
    "nye_graphM = nye[nye.sex_descrip == 'MALE'].product1_descrip.value_counts().head(10)\n",
    "nye_graphM = pd.DataFrame(nye_graphM)\n",
    "nye_graphM.columns = ['Injuries']\n",
    "nye_graphM\n"
   ]
  },
  {
   "cell_type": "code",
   "execution_count": 59,
   "metadata": {
    "collapsed": false
   },
   "outputs": [
    {
     "name": "stderr",
     "output_type": "stream",
     "text": [
      "/Users/Jen2/anaconda/lib/python3.5/site-packages/ipykernel/__main__.py:3: SettingWithCopyWarning: \n",
      "A value is trying to be set on a copy of a slice from a DataFrame.\n",
      "Try using .loc[row_indexer,col_indexer] = value instead\n",
      "\n",
      "See the caveats in the documentation: http://pandas.pydata.org/pandas-docs/stable/indexing.html#indexing-view-versus-copy\n",
      "  app.launch_new_instance()\n"
     ]
    },
    {
     "data": {
      "text/html": [
       "<div>\n",
       "<table border=\"1\" class=\"dataframe\">\n",
       "  <thead>\n",
       "    <tr style=\"text-align: right;\">\n",
       "      <th></th>\n",
       "      <th>Injuries</th>\n",
       "    </tr>\n",
       "  </thead>\n",
       "  <tbody>\n",
       "    <tr>\n",
       "      <th>\"FOOTBALL (ACTIVITY, APPAREL OR EQUIPMENT)\"</th>\n",
       "      <td>79</td>\n",
       "    </tr>\n",
       "    <tr>\n",
       "      <th>STAIRS OR STEPS</th>\n",
       "      <td>31</td>\n",
       "    </tr>\n",
       "    <tr>\n",
       "      <th>\"SOCCER (ACTIVITY, APPAREL OR EQUIPMENT)\"</th>\n",
       "      <td>25</td>\n",
       "    </tr>\n",
       "    <tr>\n",
       "      <th>FLOORS OR FLOORING MATERIALS</th>\n",
       "      <td>22</td>\n",
       "    </tr>\n",
       "    <tr>\n",
       "      <th>\"KNIVES, NOT ELSEWHERE CLASSIFIED\"</th>\n",
       "      <td>18</td>\n",
       "    </tr>\n",
       "    <tr>\n",
       "      <th>\"BICYCLES AND ACCESSORIES, (EXCL.MOUNTAIN OR ALL-TERRAIN)\"</th>\n",
       "      <td>17</td>\n",
       "    </tr>\n",
       "    <tr>\n",
       "      <th>\"BEDS OR BEDFRAMES, OTHER OR NOT SPEC    \"</th>\n",
       "      <td>16</td>\n",
       "    </tr>\n",
       "    <tr>\n",
       "      <th>\"BASKETBALL, ACTIVITY AND RELATED EQUIPMENT\"</th>\n",
       "      <td>15</td>\n",
       "    </tr>\n",
       "    <tr>\n",
       "      <th>CEILINGS AND WALLS (PART OF COMPLETED STRUCTURE)</th>\n",
       "      <td>13</td>\n",
       "    </tr>\n",
       "    <tr>\n",
       "      <th>\"LADDERS, OTHER OR NOT SPECIFIED        \"</th>\n",
       "      <td>10</td>\n",
       "    </tr>\n",
       "  </tbody>\n",
       "</table>\n",
       "</div>"
      ],
      "text/plain": [
       "                                                    Injuries\n",
       "\"FOOTBALL (ACTIVITY, APPAREL OR EQUIPMENT)\"               79\n",
       "STAIRS OR STEPS                                           31\n",
       "\"SOCCER (ACTIVITY, APPAREL OR EQUIPMENT)\"                 25\n",
       "FLOORS OR FLOORING MATERIALS                              22\n",
       "\"KNIVES, NOT ELSEWHERE CLASSIFIED\"                        18\n",
       "\"BICYCLES AND ACCESSORIES, (EXCL.MOUNTAIN OR AL...        17\n",
       "\"BEDS OR BEDFRAMES, OTHER OR NOT SPEC    \"                16\n",
       "\"BASKETBALL, ACTIVITY AND RELATED EQUIPMENT\"              15\n",
       "CEILINGS AND WALLS (PART OF COMPLETED STRUCTURE)          13\n",
       "\"LADDERS, OTHER OR NOT SPECIFIED        \"                 10"
      ]
     },
     "execution_count": 59,
     "metadata": {},
     "output_type": "execute_result"
    }
   ],
   "source": [
    "#halloween injury count\n",
    "halloween = time['2015-10-31']\n",
    "halloween['Count'] = 1\n",
    "hallow_count = halloween['Count'].count()\n",
    "\n",
    "#halloween product related injuries males vs females\n",
    "hallow_graphF = halloween[halloween.sex_descrip == 'FEMALE'].product1_descrip.value_counts().head(10)\n",
    "hallow_graphF = pd.DataFrame(hallow_graphF)\n",
    "hallow_graphF.columns = ['Injuries']\n",
    "hallow_graphF\n",
    "\n",
    "hallow_graphM = halloween[halloween.sex_descrip == 'MALE'].product1_descrip.value_counts().head(10)\n",
    "hallow_graphM = pd.DataFrame(hallow_graphM)\n",
    "hallow_graphM.columns = ['Injuries']\n",
    "hallow_graphM"
   ]
  },
  {
   "cell_type": "code",
   "execution_count": 61,
   "metadata": {
    "collapsed": false
   },
   "outputs": [
    {
     "name": "stderr",
     "output_type": "stream",
     "text": [
      "/Users/Jen2/anaconda/lib/python3.5/site-packages/ipykernel/__main__.py:3: SettingWithCopyWarning: \n",
      "A value is trying to be set on a copy of a slice from a DataFrame.\n",
      "Try using .loc[row_indexer,col_indexer] = value instead\n",
      "\n",
      "See the caveats in the documentation: http://pandas.pydata.org/pandas-docs/stable/indexing.html#indexing-view-versus-copy\n",
      "  app.launch_new_instance()\n"
     ]
    },
    {
     "data": {
      "text/html": [
       "<div>\n",
       "<table border=\"1\" class=\"dataframe\">\n",
       "  <thead>\n",
       "    <tr style=\"text-align: right;\">\n",
       "      <th></th>\n",
       "      <th>Injuries</th>\n",
       "    </tr>\n",
       "  </thead>\n",
       "  <tbody>\n",
       "    <tr>\n",
       "      <th>FLOORS OR FLOORING MATERIALS</th>\n",
       "      <td>37</td>\n",
       "    </tr>\n",
       "    <tr>\n",
       "      <th>\"FOOTBALL (ACTIVITY, APPAREL OR EQUIPMENT)\"</th>\n",
       "      <td>31</td>\n",
       "    </tr>\n",
       "    <tr>\n",
       "      <th>STAIRS OR STEPS</th>\n",
       "      <td>29</td>\n",
       "    </tr>\n",
       "    <tr>\n",
       "      <th>\"BASKETBALL, ACTIVITY AND RELATED EQUIPMENT\"</th>\n",
       "      <td>23</td>\n",
       "    </tr>\n",
       "    <tr>\n",
       "      <th>\"KNIVES, NOT ELSEWHERE CLASSIFIED\"</th>\n",
       "      <td>20</td>\n",
       "    </tr>\n",
       "    <tr>\n",
       "      <th>\"BICYCLES AND ACCESSORIES, (EXCL.MOUNTAIN OR ALL-TERRAIN)\"</th>\n",
       "      <td>18</td>\n",
       "    </tr>\n",
       "    <tr>\n",
       "      <th>\"BEDS OR BEDFRAMES, OTHER OR NOT SPEC    \"</th>\n",
       "      <td>15</td>\n",
       "    </tr>\n",
       "    <tr>\n",
       "      <th>\"DOORS, OTHER OR NOT SPECIFIED           \"</th>\n",
       "      <td>13</td>\n",
       "    </tr>\n",
       "    <tr>\n",
       "      <th>\"TABLES (EXCL.  BABY CHANGING TABLES, BILLIARD OR POOL TABLES\"</th>\n",
       "      <td>10</td>\n",
       "    </tr>\n",
       "    <tr>\n",
       "      <th>CEILINGS AND WALLS (PART OF COMPLETED STRUCTURE)</th>\n",
       "      <td>8</td>\n",
       "    </tr>\n",
       "  </tbody>\n",
       "</table>\n",
       "</div>"
      ],
      "text/plain": [
       "                                                    Injuries\n",
       "FLOORS OR FLOORING MATERIALS                              37\n",
       "\"FOOTBALL (ACTIVITY, APPAREL OR EQUIPMENT)\"               31\n",
       "STAIRS OR STEPS                                           29\n",
       "\"BASKETBALL, ACTIVITY AND RELATED EQUIPMENT\"              23\n",
       "\"KNIVES, NOT ELSEWHERE CLASSIFIED\"                        20\n",
       "\"BICYCLES AND ACCESSORIES, (EXCL.MOUNTAIN OR AL...        18\n",
       "\"BEDS OR BEDFRAMES, OTHER OR NOT SPEC    \"                15\n",
       "\"DOORS, OTHER OR NOT SPECIFIED           \"                13\n",
       "\"TABLES (EXCL.  BABY CHANGING TABLES, BILLIARD ...        10\n",
       "CEILINGS AND WALLS (PART OF COMPLETED STRUCTURE)           8"
      ]
     },
     "execution_count": 61,
     "metadata": {},
     "output_type": "execute_result"
    }
   ],
   "source": [
    "#thanksgiving injury count\n",
    "thanksgiving = time['2015-11-25']\n",
    "thanksgiving['Count'] = 1\n",
    "thanks_count = thanksgiving['Count'].count()\n",
    "\n",
    "#thanksgiving product related injuries males vs females\n",
    "thanks_graphF = thanksgiving[thanksgiving.sex_descrip == 'FEMALE'].product1_descrip.value_counts().head(10)\n",
    "thanks_graphF = pd.DataFrame(thanks_graphF)\n",
    "thanks_graphF.columns = ['Injuries']\n",
    "thanks_graphF\n",
    "\n",
    "thanks_graphM = thanksgiving[thanksgiving.sex_descrip == 'MALE'].product1_descrip.value_counts().head(10)\n",
    "thanks_graphM = pd.DataFrame(thanks_graphM)\n",
    "thanks_graphM.columns = ['Injuries']\n",
    "thanks_graphM"
   ]
  },
  {
   "cell_type": "code",
   "execution_count": 78,
   "metadata": {
    "collapsed": false
   },
   "outputs": [
    {
     "name": "stderr",
     "output_type": "stream",
     "text": [
      "/Users/Jen2/anaconda/lib/python3.5/site-packages/ipykernel/__main__.py:3: SettingWithCopyWarning: \n",
      "A value is trying to be set on a copy of a slice from a DataFrame.\n",
      "Try using .loc[row_indexer,col_indexer] = value instead\n",
      "\n",
      "See the caveats in the documentation: http://pandas.pydata.org/pandas-docs/stable/indexing.html#indexing-view-versus-copy\n",
      "  app.launch_new_instance()\n"
     ]
    },
    {
     "data": {
      "text/html": [
       "<div>\n",
       "<table border=\"1\" class=\"dataframe\">\n",
       "  <thead>\n",
       "    <tr style=\"text-align: right;\">\n",
       "      <th></th>\n",
       "      <th>Injuries</th>\n",
       "    </tr>\n",
       "  </thead>\n",
       "  <tbody>\n",
       "    <tr>\n",
       "      <th>FIREWORKS</th>\n",
       "      <td>48</td>\n",
       "    </tr>\n",
       "    <tr>\n",
       "      <th>STAIRS OR STEPS</th>\n",
       "      <td>35</td>\n",
       "    </tr>\n",
       "    <tr>\n",
       "      <th>\"BICYCLES AND ACCESSORIES, (EXCL.MOUNTAIN OR ALL-TERRAIN)\"</th>\n",
       "      <td>27</td>\n",
       "    </tr>\n",
       "    <tr>\n",
       "      <th>\"BASKETBALL, ACTIVITY AND RELATED EQUIPMENT\"</th>\n",
       "      <td>18</td>\n",
       "    </tr>\n",
       "    <tr>\n",
       "      <th>\"BEDS OR BEDFRAMES, OTHER OR NOT SPEC    \"</th>\n",
       "      <td>18</td>\n",
       "    </tr>\n",
       "    <tr>\n",
       "      <th>\"KNIVES, NOT ELSEWHERE CLASSIFIED\"</th>\n",
       "      <td>15</td>\n",
       "    </tr>\n",
       "    <tr>\n",
       "      <th>FLOORS OR FLOORING MATERIALS</th>\n",
       "      <td>14</td>\n",
       "    </tr>\n",
       "    <tr>\n",
       "      <th>ALL TERRAIN VEHICLES (FOUR WHEELS/OFF ROAD ONLY)</th>\n",
       "      <td>13</td>\n",
       "    </tr>\n",
       "    <tr>\n",
       "      <th>\"LADDERS, OTHER OR NOT SPECIFIED        \"</th>\n",
       "      <td>12</td>\n",
       "    </tr>\n",
       "    <tr>\n",
       "      <th>\"DOORS, OTHER OR NOT SPECIFIED           \"</th>\n",
       "      <td>11</td>\n",
       "    </tr>\n",
       "  </tbody>\n",
       "</table>\n",
       "</div>"
      ],
      "text/plain": [
       "                                                    Injuries\n",
       "FIREWORKS                                                 48\n",
       "STAIRS OR STEPS                                           35\n",
       "\"BICYCLES AND ACCESSORIES, (EXCL.MOUNTAIN OR AL...        27\n",
       "\"BASKETBALL, ACTIVITY AND RELATED EQUIPMENT\"              18\n",
       "\"BEDS OR BEDFRAMES, OTHER OR NOT SPEC    \"                18\n",
       "\"KNIVES, NOT ELSEWHERE CLASSIFIED\"                        15\n",
       "FLOORS OR FLOORING MATERIALS                              14\n",
       "ALL TERRAIN VEHICLES (FOUR WHEELS/OFF ROAD ONLY)          13\n",
       "\"LADDERS, OTHER OR NOT SPECIFIED        \"                 12\n",
       "\"DOORS, OTHER OR NOT SPECIFIED           \"                11"
      ]
     },
     "execution_count": 78,
     "metadata": {},
     "output_type": "execute_result"
    }
   ],
   "source": [
    "#july4 injury count\n",
    "independence = time['2015-7-4']\n",
    "independence['Count'] = 1\n",
    "indep_count = independence['Count'].count()\n",
    "\n",
    "#july4 product related injuries males vs females\n",
    "indep_graphF = independence[independence.sex_descrip == 'FEMALE'].product1_descrip.value_counts().head(10)\n",
    "indep_graphF = pd.DataFrame(indep_graphF)\n",
    "indep_graphF.columns = ['Injuries']\n",
    "indep_graphF\n",
    "\n",
    "indep_graphM = independence[independence.sex_descrip == 'MALE'].product1_descrip.value_counts().head(10)\n",
    "indep_graphM = pd.DataFrame(indep_graphM)\n",
    "indep_graphM.columns = ['Injuries']\n",
    "indep_graphM"
   ]
  },
  {
   "cell_type": "markdown",
   "metadata": {},
   "source": [
    "# DRUGS V ALCOHOL V POT"
   ]
  },
  {
   "cell_type": "code",
   "execution_count": 71,
   "metadata": {
    "collapsed": false
   },
   "outputs": [
    {
     "data": {
      "text/plain": [
       "<matplotlib.text.Text at 0x147760828>"
      ]
     },
     "execution_count": 71,
     "metadata": {},
     "output_type": "execute_result"
    },
    {
     "data": {
      "image/png": "[encoded data removed]",
      "text/plain": [
       "<matplotlib.figure.Figure at 0x146d44a58>"
      ]
     },
     "metadata": {},
     "output_type": "display_data"
    }
   ],
   "source": [
    "#drugs\n",
    "\n",
    "#value counts by age containing cocaine/heroin\n",
    "doped_af = df1[df1['Notes'].str.contains('COCAINE|HEROIN')]\n",
    "age_doped = doped_af['age'].value_counts(sort = False)\n",
    "\n",
    "#bin ages into groups of 10 years and sums value counts per bin \n",
    "bins = np.arange(age_doped.index.min(), age_doped.index.max(), 10)\n",
    "doped_age_groups = age_doped.groupby(pd.cut(age_doped.index, bins))\n",
    "drug_bins = doped_age_groups.sum()\n",
    "drug_graph = drug_bins.plot(kind = 'bar', title = \"Injuries whilst on cocaine or heroin\")\n",
    "\n",
    "drug_graph.set_xlabel(\"Age range\")\n",
    "drug_graph.set_ylabel(\"Injury count\")"
   ]
  },
  {
   "cell_type": "code",
   "execution_count": 74,
   "metadata": {
    "collapsed": false
   },
   "outputs": [
    {
     "data": {
      "text/plain": [
       "<matplotlib.text.Text at 0x147adaa20>"
      ]
     },
     "execution_count": 74,
     "metadata": {},
     "output_type": "execute_result"
    },
    {
     "data": {
      "image/png": "[encoded data removed]",
      "text/plain": [
       "<matplotlib.figure.Figure at 0x1477ce978>"
      ]
     },
     "metadata": {},
     "output_type": "display_data"
    }
   ],
   "source": [
    "#value counts by age containing alcohol-related terms\n",
    "drunk_af = df1[df1['Notes'].str.contains('DRUNK|ALCOHOL|ETOH|INTOXICATED')]\n",
    "drunk_af = drunk_af['age'].value_counts(sort = False)\n",
    "\n",
    "#bin ages\n",
    "drunk_age_groups = drunk_af.groupby(pd.cut(drunk_af.index, bins))\n",
    "drunk_bins = drunk_age_groups.sum()\n",
    "drunk_graph = drunk_bins.plot(kind = 'bar', title = \"Injuries whilst on Alcohol\")\n",
    "\n",
    "#for labeling bar graphs\n",
    "drunk_graph.set_xlabel(\"Age range\")\n",
    "drunk_graph.set_ylabel(\"Injury count\")\n"
   ]
  },
  {
   "cell_type": "code",
   "execution_count": 72,
   "metadata": {
    "collapsed": false
   },
   "outputs": [
    {
     "data": {
      "text/plain": [
       "<matplotlib.text.Text at 0x12b0517b8>"
      ]
     },
     "execution_count": 72,
     "metadata": {},
     "output_type": "execute_result"
    },
    {
     "data": {
      "image/png": "[encoded data removed]",
      "text/plain": [
       "<matplotlib.figure.Figure at 0x14756f080>"
      ]
     },
     "metadata": {},
     "output_type": "display_data"
    }
   ],
   "source": [
    "#value counts by age containing marijuana-related terms\n",
    "\n",
    "high_filter = df1[df1['Notes'].str.contains('HIGH|MARIJUANA')]\n",
    "\n",
    "high_filter = high_filter[high_filter['Notes'].str.contains('HEELED|CARBON|MILAGE|HIGHWAY|TOO|FX') == False]\n",
    "high_filter = high_filter[high_filter['Notes'].str.contains('CHAIR|BP|FIVE|ANKLE|SHOT|SWING') == False]\n",
    "high_filter = high_filter[high_filter['Notes'].str.contains('HEELS|FLOWER') == False]\n",
    "high_filter = high_filter[high_filter['Notes'].str.contains('THIGH|POTATOES|POTHOLE|HOLE|SPILL|STOVE') == False]\n",
    "high_filter = high_filter[high_filter['Notes'].str.contains('BED|HIGHEST|HIGHER') == False]\n",
    "high_filter = high_filter[high_filter['Notes'].str.contains('BAR|HOT|FALL') == False]\n",
    "high_filter = high_filter[high_filter['Notes'].str.contains('SHELF') == False]\n",
    "high_filter = high_filter[high_filter['Notes'].str.contains('HEEL') == False]\n",
    "high_filter = high_filter[high_filter['Notes'].str.contains('STEPS') == False]\n",
    "high_filter = high_filter[high_filter['Notes'].str.contains('POWERED') == False]\n",
    "high_filter = high_filter[high_filter['Notes'].str.contains('STOOL') == False]\n",
    "high_filter = high_filter[high_filter['Notes'].str.contains('FT') == False]\n",
    "high_filter = high_filter[high_filter['Notes'].str.contains('FEET') == False]\n",
    "high_filter = high_filter[high_filter['Notes'].str.contains('UP') == False]\n",
    "high_filter = high_filter[high_filter['Notes'].str.contains('INTENSITY') == False]\n",
    "high_filter = high_filter[high_filter['Notes'].str.contains('HEEL') == False]\n",
    "high_filter = high_filter[high_filter['Notes'].str.contains('SCHOOL') == False]\n",
    "high_filter = high_filter[high_filter['Notes'].str.contains('SPEED') == False]\n",
    "high_filter = high_filter[high_filter['Notes'].str.contains('PRESSURE') == False]\n",
    "high_filter = high_filter[high_filter['Notes'].str.contains('CABINET') == False]\n",
    "high_filter = high_filter[high_filter['Notes'].str.contains('JUMP') == False]\n",
    "high_af = high_filter[high_filter['Notes'].str.contains('TOP') == False]\n",
    "\n",
    "#checking filtered out notes\n",
    "# pd.options.display.max_colwidth = 1000\n",
    "# high_af['Notes']\n",
    "\n",
    "#value counts by age containing high-related terms\n",
    "high_af = high_af['age'].value_counts(sort = False)\n",
    "high_age_groups = high_af.groupby(pd.cut(high_af.index, bins))\n",
    "high_bins = high_age_groups.sum()\n",
    "high_graph = high_bins.plot(kind = 'bar')\n",
    "\n",
    "high_graph.set_title(\"Injuries whilst on Marijuana\")\n",
    "high_graph.set_xlabel(\"Age range\")\n",
    "high_graph.set_ylabel(\"Injury count\")"
   ]
  },
  {
   "cell_type": "code",
   "execution_count": 42,
   "metadata": {
    "collapsed": false
   },
   "outputs": [
    {
     "data": {
      "text/plain": [
       "<matplotlib.legend.Legend at 0x147076ef0>"
      ]
     },
     "execution_count": 42,
     "metadata": {},
     "output_type": "execute_result"
    },
    {
     "data": {
      "image/png": "[encoded data removed]",
      "text/plain": [
       "<matplotlib.figure.Figure at 0x146e59940>"
      ]
     },
     "metadata": {},
     "output_type": "display_data"
    }
   ],
   "source": [
    "#combine drunk, marijuana, drugs\n",
    "\n",
    "df_influenced = pd.concat([drug_bins, high_bins, drunk_bins], axis = 1)\n",
    "df_influenced.columns = ['Drugs', 'Marijuana', 'Alcohol']\n",
    "influenced_graph = df_influenced.plot(kind = 'area')\n",
    "\n",
    "influenced_graph.set_title(\"Injuries whilst on Drugs vs Marijuana vs Alcohol\")\n",
    "influenced_graph.set_xlabel(\"Age range\")\n",
    "influenced_graph.set_ylabel(\"Injury count\")\n",
    "\n",
    "#move legend outside of plot\n",
    "influenced_graph.legend(loc = 'center left', bbox_to_anchor=(1, 0.5))"
   ]
  },
  {
   "cell_type": "markdown",
   "metadata": {},
   "source": [
    "# Weight injuries"
   ]
  },
  {
   "cell_type": "code",
   "execution_count": null,
   "metadata": {
    "collapsed": false
   },
   "outputs": [],
   "source": [
    "\n",
    "# #From 6 most common weights for injuries, ranking heaviest to lightest weights and showing product description\n",
    "# weight_1 = df1[df1['weight'].str.contains('97.9239')]\n",
    "# dfweight1 = weight_1['product1_descrip'].value_counts().head()\n",
    "\n",
    "# weight_2 = df1[df1['weight'].str.contains('85.7374')]\n",
    "# dfweight2 = weight_2['product1_descrip'].value_counts().head()\n",
    "\n",
    "# weight_3 = df1[df1['weight'].str.contains('83.2157')]\n",
    "# dfweight3 = weight_3['product1_descrip'].value_counts().head()\n",
    "\n",
    "# weight_4 = df1[df1['weight'].str.contains('80.8381')]\n",
    "# dfweight4 = weight_4['product1_descrip'].value_counts().head()\n",
    "\n",
    "# weight_5 = df1[df1['weight'].str.contains('78.5926')]\n",
    "# dfweight5 = weight_5['product1_descrip'].value_counts().head()\n",
    "\n",
    "# weight_6 = df1[df1['weight'].str.contains('74.8813')]\n",
    "# dfweight6 = weight_6['product1_descrip'].value_counts().head()\n",
    "\n",
    "# weight_7 = df1[df1['weight'].str.contains('49.2646')]\n",
    "# dfweight7 = weight_7['product1_descrip'].value_counts().head()\n",
    "\n",
    "# weight_7 = df1[df1['weight'].str.contains('37.6645 ')]\n",
    "# dfweight8 = weight_7['product1_descrip'].value_counts().head()\n",
    "\n",
    "# # stacked bar graph\n",
    "# weight_graph = pd.DataFrame({'97lbs':dfweight1, '85lbs':dfweight2, '83lbs':dfweight3, '80lbs':dfweight4, '78lbs':dfweight5, '75lbs':dfweight6, '49lbs':dfweight7, '37lbs':dfweight8}).plot(kind = 'bar', stacked = True)\n",
    "# weight_graph.set_ylabel('Number of injuries')\n",
    "# weight_graph.set_xlabel('Products causing injury')\n"
   ]
  },
  {
   "cell_type": "code",
   "execution_count": 14,
   "metadata": {
    "collapsed": false
   },
   "outputs": [
    {
     "data": {
      "text/plain": [
       "<pandas.core.groupby.SeriesGroupBy object at 0x1473015c0>"
      ]
     },
     "execution_count": 14,
     "metadata": {},
     "output_type": "execute_result"
    }
   ],
   "source": [
    "#Looking for weight associated injuries\n",
    "\n",
    "#value counts for weights\n",
    "df_weight = df1['weight'].value_counts().sort_index(ascending = False)\n",
    "#round weight index from float to int\n",
    "df_weight.index = df_weight.index.map(int)\n",
    "\n",
    "#bin weights\n",
    "weight_bins = np.arange(df_weight.index.min(), df_weight.index.max(), 5)\n",
    "                       \n",
    "weight_age_groups = df_weight.groupby(pd.cut(df_weight.index, weight_bins))\n",
    "weight_age_groups"
   ]
  },
  {
   "cell_type": "markdown",
   "metadata": {},
   "source": [
    "# Girl vs Boy"
   ]
  },
  {
   "cell_type": "code",
   "execution_count": null,
   "metadata": {
    "collapsed": false
   },
   "outputs": [],
   "source": [
    "# Girls v Boys\n",
    "# General injuries \n",
    "\n",
    "gvb_general = df1['sex_descrip'].value_counts().plot(kind = \"bar\")\n",
    "gvb_general = gvb_general.set_ylabel(\"Number of injuries\")\n",
    "gvb_general"
   ]
  },
  {
   "cell_type": "code",
   "execution_count": null,
   "metadata": {
    "collapsed": false
   },
   "outputs": [],
   "source": [
    "# Girls v Boys\n",
    "# Most common products\n",
    "    \n",
    "gvb_products = df1['product1_descrip'].value_counts().head(10).plot(kind = 'bar', legend=None, title = \"The most dangerous products for males vs females\")\n",
    "gvb_products.set_xlabel(\"Product types\")\n",
    "gvb_products.set_ylabel(\"Frequency of occurences\")\n",
    "gvb_products\n",
    "\n",
    "# Trying to groupby sex, then 10 most common things for each sex\n",
    "y = df1.groupby(['sex_descrip', 'product1_descrip'], sort = True).size()"
   ]
  },
  {
   "cell_type": "code",
   "execution_count": null,
   "metadata": {
    "collapsed": false
   },
   "outputs": [],
   "source": [
    "#Most commonly injured body parts\n",
    "\n",
    "body_parts = df1['body_part_descrip'].value_counts().plot(kind = 'bar')\n",
    "body_parts"
   ]
  },
  {
   "cell_type": "code",
   "execution_count": null,
   "metadata": {
    "collapsed": true
   },
   "outputs": [],
   "source": [
    "\n",
    "# Using Omar's pretty histographs\n",
    "# M_doped = doped_af[doped_af.sex_descrip == 'MALE'].age\n",
    "# F_doped = doped_af[doped_af.sex_descrip == 'FEMALE'].age\n",
    "# Mdoped = plt.hist(doped_M_bar,alpha=0.5, bins = 14, color = 'blue',label='MALE')\n",
    "# Fdoped = plt.hist(doped_F_bar,alpha=0.5, bins = 10,color = 'red',label='FEMALE')"
   ]
  }
 ],
 "metadata": {
  "kernelspec": {
   "display_name": "Python 3",
   "language": "python",
   "name": "python3"
  },
  "language_info": {
   "codemirror_mode": {
    "name": "ipython",
    "version": 3
   },
   "file_extension": ".py",
   "mimetype": "text/x-python",
   "name": "python",
   "nbconvert_exporter": "python",
   "pygments_lexer": "ipython3",
   "version": "3.5.1"
  }
 },
 "nbformat": 4,
 "nbformat_minor": 0
}
