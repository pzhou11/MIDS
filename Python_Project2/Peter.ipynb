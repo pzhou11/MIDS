{
 "cells": [
  {
   "cell_type": "code",
   "execution_count": 66,
   "metadata": {
    "collapsed": true
   },
   "outputs": [],
   "source": [
    "import csv \n",
    "import pandas as pd\n",
    "import matplotlib.pyplot as plt\n",
    "%matplotlib inline  \n",
    "\n",
    "with open('Data/2015.tsv','r') as tsv:\n",
    "    data = [line.strip().split('\\t') for line in tsv]\n",
    "    \n",
    "col_names = data[0]\n",
    "df = pd.DataFrame(data, columns=col_names)\n",
    "df = df[1:]\n",
    "\n",
    "#open code_sex.csv and convert it to a DataFrame\n",
    "with open('Data/code_sex.csv','r') as csv:\n",
    "    sex_descrip = [line.strip().split(',') for line in csv]\n",
    "\n",
    "sex_header = sex_descrip[0]\n",
    "df_sex = pd.DataFrame(sex_descrip, columns=sex_header)\n",
    "df_sex = df_sex[1:]\n",
    "indexed_df_sex = df_sex.set_index('Code')\n",
    "\n",
    "#open code_body_part.csv and convert it to a DataFrame\n",
    "with open('Data/code_body_part.csv','r') as csv:\n",
    "    body_part_descrip = [line.strip().split(',') for line in csv]\n",
    "\n",
    "body_part_header = body_part_descrip[0]\n",
    "df_body_part = pd.DataFrame(body_part_descrip, columns=body_part_header)\n",
    "df_body_part = df_body_part[1:]\n",
    "indexed_df_body_part = df_body_part.set_index('Code')\n",
    "\n",
    "#open code_diagnosis.csv and convert it to a DataFrame\n",
    "with open('Data/code_diagnosis.csv','r') as csv:\n",
    "    diagnosis_descrip = [line.strip().split(',') for line in csv]\n",
    "\n",
    "diagnosis_header = diagnosis_descrip[0]\n",
    "df_diagnosis = pd.DataFrame(diagnosis_descrip, columns=diagnosis_header)\n",
    "df_diagnosis = df_diagnosis[1:]\n",
    "indexed_df_diagnosis = df_diagnosis.set_index('Code')\n",
    "\n",
    "#open code_disposition.csv and convert it to a DataFrame\n",
    "with open('Data/code_disposition.csv','r') as csv:\n",
    "    disposition_descrip = [line.strip().split(',') for line in csv]\n",
    "\n",
    "disposition_header = disposition_descrip[0]\n",
    "df_disposition = pd.DataFrame(disposition_descrip, columns=disposition_header)\n",
    "df_disposition = df_disposition[1:]\n",
    "indexed_df_disposition = df_disposition.set_index('Code')\n",
    "\n",
    "#open code_fire.csv and convert it to a DataFrame\n",
    "with open('Data/code_fire.csv','r') as csv:\n",
    "    fire_descrip = [line.strip().split(',') for line in csv]\n",
    "\n",
    "fire_header = fire_descrip[0]\n",
    "df_fire = pd.DataFrame(fire_descrip, columns=fire_header)\n",
    "df_fire = df_fire[1:]\n",
    "indexed_df_fire = df_fire.set_index('Code')\n",
    "\n",
    "#open code_locale.csv and convert it to a DataFrame\n",
    "with open('Data/code_locale.csv','r') as csv:\n",
    "    locale_descrip = [line.strip().split(',') for line in csv]\n",
    "\n",
    "locale_header = locale_descrip[0]\n",
    "df_locale = pd.DataFrame(locale_descrip, columns=locale_header)\n",
    "df_locale = df_locale[1:]\n",
    "indexed_df_locale = df_locale.set_index('Code')\n",
    "\n",
    "#open code_product.csv and convert it to a DataFrame\n",
    "with open('Data/code_product.csv','r') as csv:\n",
    "    product_descrip = [line.strip().split(',',1) for line in csv]\n",
    "\n",
    "product_header = product_descrip[0]\n",
    "df_product = pd.DataFrame(product_descrip, columns=product_header)\n",
    "df_product = df_product[1:]\n",
    "indexed_df_product = df_product.set_index('Code')\n",
    "\n",
    "#open code_race.csv and convert it to a DataFrame\n",
    "with open('Data/code_race.csv','r') as csv:\n",
    "    race_descrip = [line.strip().split(',') for line in csv]\n",
    "\n",
    "race_header = race_descrip[0]\n",
    "df_race = pd.DataFrame(race_descrip, columns=race_header)\n",
    "df_race = df_race[1:]\n",
    "indexed_df_race = df_race.set_index('Code')\n",
    "\n",
    "#merge all the codes\n",
    "df['sex_descrip']=df.sex.map(indexed_df_sex.Description)\n",
    "df['body_part_descrip']=df.body_part.map(indexed_df_body_part.Description)\n",
    "df['diag_descrip']=df.diag.map(indexed_df_diagnosis.Description)\n",
    "df['disposition_descrip']=df.disposition.map(indexed_df_disposition.Description)\n",
    "df['fire_descrip']=df.fmv.map(indexed_df_fire.Description)\n",
    "df['locale_descrip']=df.location.map(indexed_df_locale.Description)\n",
    "df['product1_descrip']=df.prod1.map(indexed_df_product.Description)\n",
    "df['product2_descrip']=df.prod2.map(indexed_df_product.Description)\n",
    "df['race_descrip']=df.race.map(indexed_df_race.Description)\n",
    "\n",
    "#combine the 2 narr fields into 1\n",
    "df['Notes'] = df['narr1'].map(str) + df['narr2'].map(str)\n",
    "\n",
    "df1 = df[['CPSC Case #', \n",
    "         'trmt_date', \n",
    "         'psu', \n",
    "         'weight', \n",
    "         'age', \n",
    "         'sex_descrip', \n",
    "         'race_descrip',\n",
    "         'body_part_descrip', \n",
    "         'diag_descrip', \n",
    "         'disposition_descrip', \n",
    "         'fire_descrip', \n",
    "         'locale_descrip', \n",
    "         'product1_descrip', \n",
    "         'product2_descrip', \n",
    "         'Notes']]\n",
    "\n",
    "#convert numerical columns to numeric data type\n",
    "df1 = df1.apply(lambda x: pd.to_numeric(x,errors=\"ignore\"))\n",
    "\n",
    "#convert 'trmt_date' column to datetime type\n",
    "df1['trmt_date'] = df1['trmt_date'].apply(lambda x: pd.to_datetime(x,format='%m/%d/%Y'))\n",
    "\n",
    "\n",
    "def textfind(dataframe, field, string):\n",
    "    \"\"\" Takes dataframe, field (column in the dataframe), and a string to search\n",
    "    Allow for use of regular expressions.\n",
    "    Returns a dataframe of the records where the string is found\"\"\"\n",
    "    import re\n",
    "    a = [df1.loc[i] for i in range(1,len(dataframe)) \\\n",
    "         if re.search(string, dataframe[field][i])]\n",
    "    return pd.DataFrame(a)\n",
    "    \n",
    "def notereader(dataframe):\n",
    "    \"\"\" Takes a dataframe that contains the 'Notes' field and prints it out in a\n",
    "    readable fashion.\n",
    "    Returns a dictionary of Index (integer): Note (string) pairs\"\"\"\n",
    "    output_dict ={}\n",
    "    for i in dataframe.index:           \n",
    "        output_dict[i] = dataframe.Notes[i]\n",
    "        print (\"INDEX\", i,\"\\n\", dataframe.Notes[i],\"\\n\")\n",
    "    return output_dict\n"
   ]
  },
  {
   "cell_type": "code",
   "execution_count": 67,
   "metadata": {
    "collapsed": false
   },
   "outputs": [
    {
     "data": {
      "text/plain": [
       "<matplotlib.text.Text at 0x11720be48>"
      ]
     },
     "execution_count": 67,
     "metadata": {},
     "output_type": "execute_result"
    },
    {
     "data": {
      "image/png": "[encoded data removed]",
      "text/plain": [
       "<matplotlib.figure.Figure at 0x14539fa20>"
      ]
     },
     "metadata": {},
     "output_type": "display_data"
    }
   ],
   "source": [
    "#Injuries by Body Part\n",
    "\n",
    "#male_body_filter = df1[df1['sex_descrip'].str.contains('MALE')]\n",
    "#female_body_filter = df1[df1['sex_descrip'].str.contains('FEMALE')]\n",
    "#dfmalebody = male_body_filter.groupby(['body_part_descrip'])['Notes'].count().sort_values(ascending=False)\n",
    "#dffemalebody = female_body_filter.groupby(['body_part_descrip'])['Notes'].count().sort_values(ascending=False)\n",
    "#dfmalebody = dfmalebody.sort_values(ascending = False)\n",
    "#dffemalebody = dffemalebody.sort_values(ascending = False)\n",
    "\n",
    "#body1 = dfmalebody.sort_values(ascending = False).plot(kind='bar',color = 'b', label = 'Male', figsize=(10,7))\n",
    "#body2 = dffemalebody.sort_values(ascending = False).plot(kind='bar', stacked=True, color = 'r', label = 'Female', figsize=(10,7))\n",
    "\n",
    "#body1=pd.DataFrame({'Male':dfmalebody, 'Female':dffemalebody})\n",
    "#body1.plot(kind='bar', stacked=False, figsize=(10,7))\n",
    "\n",
    "#plt.xlabel('Body Part')\n",
    "#plt.ylabel('# of Injuries')\n",
    "#plt.title('2015 ER Injuries by Body Part')\n",
    "#plt.legend()\n",
    "\n",
    "#plt.tight_layout()\n",
    "#plt.show()\n",
    "\n",
    "body_part = df1['body_part_descrip'].value_counts().head(10).plot(kind = 'bar', legend = None, title = '2015 ER Injuries by Body Part')\n",
    "body_part.set_xlabel('Body Part')\n",
    "body_part.set_ylabel('Number of People')                                    "
   ]
  },
  {
   "cell_type": "code",
   "execution_count": 68,
   "metadata": {
    "collapsed": false
   },
   "outputs": [
    {
     "data": {
      "text/plain": [
       "<matplotlib.text.Text at 0x145f30f60>"
      ]
     },
     "execution_count": 68,
     "metadata": {},
     "output_type": "execute_result"
    },
    {
     "data": {
      "image/png": "[encoded data removed]",
      "text/plain": [
       "<matplotlib.figure.Figure at 0x116fd2898>"
      ]
     },
     "metadata": {},
     "output_type": "display_data"
    }
   ],
   "source": [
    "#Injuries by Location\n",
    "\n",
    "#male_locale_filter = df1[df1['locale_descrip'].str.contains('MALE')]\n",
    "#female_locale_filter = df1[df1['locale_descrip'].str.contains('FEMALE')]\n",
    "#dfmalelocale = male_body_filter.groupby(['locale_descrip'])['Notes'].count()\n",
    "#dffemalelocale = female_body_filter.groupby(['locale_descrip'])['Notes'].count()\n",
    " \n",
    "#locale1=pd.DataFrame({'Male':dfmalelocale, 'Female':dffemalelocale})\n",
    "#locale1.plot(kind='bar', stacked=False, figsize=(10,7))\n",
    " \n",
    "#plt.xlabel('Location')\n",
    "#plt.ylabel('# of Injuries')\n",
    "#plt.title('2015 ER Injuries by Location')\n",
    "#plt.legend()\n",
    "\n",
    "#plt.tight_layout()\n",
    "#plt.show()\n",
    "\n",
    "locale = df1['locale_descrip'].value_counts().head(10).plot(kind = 'bar', legend = None, title = '2015 ER Injuries by Location')\n",
    "locale.set_xlabel('Location')\n",
    "locale.set_ylabel('Number of People')"
   ]
  },
  {
   "cell_type": "code",
   "execution_count": 231,
   "metadata": {
    "collapsed": false
   },
   "outputs": [
    {
     "data": {
      "image/png": "[encoded data removed]",
      "text/plain": [
       "<matplotlib.figure.Figure at 0x121b50908>"
      ]
     },
     "metadata": {},
     "output_type": "display_data"
    }
   ],
   "source": [
    "#Animal Injuries\n",
    "\n",
    "dog_filter = df1[df1['Notes'].str.contains('DOG|PUPPY|ROTTWEILER|POODLE|GOLDEN RETRIEVER')]\n",
    "cat_filter = df1[df1['Notes'].str.contains(' CAT |KITTEN')]\n",
    "cat_filter = cat_filter[cat_filter['product1_descrip'].str.contains('FISHING') == False]\n",
    "fish_filter = df1[df1['product1_descrip'].str.contains('FISHING') == True]\n",
    "horse_filter = df1[df1['Notes'].str.contains('HORSE')]\n",
    "chicken_filter = df1[df1['Notes'].str.contains('CHICKEN')]\n",
    "chicken_filter = chicken_filter[chicken_filter['Notes'].str.contains('WIRE|DANCE|KNIFE|FRY') == False]\n",
    "chicken_filter = chicken_filter[chicken_filter['product1_descrip'].str.contains('COOKWARE|KNIVES|REFRIGERATORS|HOT WATER|OVEN|TABLE') == False]\n",
    "pig_filter = df1[df1['Notes'].str.contains(' PIG ')]\n",
    "pig_filter = pig_filter[pig_filter['Notes'].str.contains('KNIFE|FRY') == False]\n",
    "pig_filter = pig_filter[pig_filter['product1_descrip'].str.contains('COOKWARE|KNIVES|REFRIGERATORS|HOT WATER|OVEN|TABLE|TOYS|CHARCOAL') == False]\n",
    "shark_filter = df1[df1['Notes'].str.contains('SHARK')]\n",
    "shark_filter = shark_filter[shark_filter['Notes'].str.contains('PLAYING') == False]\n",
    "sheep_filter = df1[df1['Notes'].str.contains(' SHEEP ')]\n",
    "cow_filter = df1[df1['Notes'].str.contains(' COW | BULL |CATTLE')]\n",
    "cow_filter = cow_filter[cow_filter['product1_descrip'].str.contains('ATTRACTIONS|TOYS') == False]\n",
    "cow_filter = cow_filter[cow_filter['Notes'].str.contains('PIT|DOG') == False]\n",
    "spider_filter = df1[df1['Notes'].str.contains('SPIDER')]\n",
    "snake_filter = df1[df1['Notes'].str.contains('SNAKE')]\n",
    "snake_filter = snake_filter[snake_filter['product1_descrip'].str.contains('DRAIN SNAKES') == False]\n",
    "snake_filter = snake_filter[snake_filter['Notes'].str.contains('PLUMBING') == False]\n",
    "bird_filter = df1[df1['Notes'].str.contains('BIRD')]\n",
    "\n",
    "animal_injuries = [['Dog', len(dog_filter)], ['Cat', len(cat_filter)], ['Fish', len(fish_filter)], ['Horse', len(horse_filter)],\n",
    "                  ['Chicken', len(chicken_filter)], ['Pig', len(pig_filter)], ['Shark', len(shark_filter)], ['Sheep', len(sheep_filter)],\n",
    "                  ['Cows and Bulls', len(cow_filter)], ['Snake', len(snake_filter)], ['Bird', len(bird_filter)]]\n",
    "\n",
    "animals = pd.DataFrame(animal_injuries, columns=('Animals', 'Count')).sort_values('Count', ascending = False)\n",
    "animals_graph = animals['Count'].plot(kind = 'bar', legend = None, title = '2015 ER Injuries by Animal')\n",
    "animals_graph.set_xticklabels(animals['Animals'])\n",
    "\n",
    "plt.show()"
   ]
  },
  {
   "cell_type": "code",
   "execution_count": null,
   "metadata": {
    "collapsed": true
   },
   "outputs": [],
   "source": []
  }
 ],
 "metadata": {
  "kernelspec": {
   "display_name": "Python 3",
   "language": "python",
   "name": "python3"
  },
  "language_info": {
   "codemirror_mode": {
    "name": "ipython",
    "version": 3
   },
   "file_extension": ".py",
   "mimetype": "text/x-python",
   "name": "python",
   "nbconvert_exporter": "python",
   "pygments_lexer": "ipython3",
   "version": "3.5.1"
  }
 },
 "nbformat": 4,
 "nbformat_minor": 0
}
